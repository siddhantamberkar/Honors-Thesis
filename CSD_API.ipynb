{
 "cells": [
  {
   "cell_type": "code",
   "execution_count": 1,
   "metadata": {},
   "outputs": [],
   "source": [
    "import os\n",
    "os.environ[\"CSDHOME\"] = \"/Users/siddhant/CCDC2025/ccdc-data/csd\""
   ]
  },
  {
   "cell_type": "code",
   "execution_count": 2,
   "metadata": {},
   "outputs": [
    {
     "name": "stdout",
     "output_type": "stream",
     "text": [
      "Number of entries: 1371757\n"
     ]
    }
   ],
   "source": [
    "from ccdc import io \n",
    "csd_reader = io.EntryReader(\"CSD\")\n",
    "print(f\"Number of entries: {len(csd_reader)}\")"
   ]
  },
  {
   "cell_type": "code",
   "execution_count": 3,
   "metadata": {},
   "outputs": [
    {
     "data": {
      "text/plain": [
       "'c1cc:[B-](:cc1)/C=C/c1ccc(cc1)/C=C/[B-]1:ccccc:1'"
      ]
     },
     "execution_count": 3,
     "metadata": {},
     "output_type": "execute_result"
    }
   ],
   "source": [
    "# generate SMILES string based on REFcode\n",
    "io.MoleculeReader(\"csd\").molecule(\"ABEHUK\").components[1].to_string('smiles')"
   ]
  },
  {
   "cell_type": "code",
   "execution_count": 29,
   "metadata": {},
   "outputs": [],
   "source": [
    "excluded_elements = [\n",
    "    \"He\", \"Li\", \"Be\", \"B\", \"O\", \"F\", \"Ne\", \"Na\", \"Mg\", \"Al\", \"Si\", \"P\", \"S\", \"Cl\", \"Ar\",\n",
    "    \"K\", \"Ca\", \"Sc\", \"Ti\", \"V\", \"Cr\", \"Mn\", \"Fe\", \"Co\", \"Ni\", \"Cu\", \"Zn\", \"Ga\", \"Ge\", \"As\", \"Se\", \"Br\", \"Kr\",\n",
    "    \"Rb\", \"Sr\", \"Y\", \"Zr\", \"Nb\", \"Mo\", \"Tc\", \"Ru\", \"Rh\", \"Pd\", \"Ag\", \"Cd\", \"In\", \"Sn\", \"Sb\", \"Te\", \"I\", \"Xe\",\n",
    "    \"Cs\", \"Ba\", \"La\", \"Ce\", \"Pr\", \"Nd\", \"Pm\", \"Sm\", \"Eu\", \"Gd\", \"Tb\", \"Dy\", \"Ho\", \"Er\", \"Tm\", \"Yb\", \"Lu\",\n",
    "    \"Hf\", \"Ta\", \"W\", \"Re\", \"Os\", \"Ir\", \"Pt\", \"Au\", \"Hg\", \"Tl\", \"Pb\", \"Bi\", \"Po\", \"At\", \"Rn\",\n",
    "    \"Fr\", \"Ra\", \"Ac\", \"Th\", \"Pa\", \"U\", \"Np\", \"Pu\", \"Am\", \"Cm\", \"Bk\", \"Cf\", \"Es\", \"Fm\", \"Md\", \"No\", \"Lr\",\n",
    "    \"Rf\", \"Db\", \"Sg\", \"Bh\", \"Hs\", \"Mt\", \"Ds\", \"Rg\", \"Cn\", \"Fl\", \"Lv\", \"Ts\", \"Og\"\n",
    "]"
   ]
  },
  {
   "cell_type": "code",
   "execution_count": 30,
   "metadata": {},
   "outputs": [
    {
     "name": "stdout",
     "output_type": "stream",
     "text": [
      "Found 2585 hits.\n"
     ]
    }
   ],
   "source": [
    "# search CSD for structures based on SMARTS match\n",
    "from ccdc import search\n",
    "smarts = \"[NX3;H1]([CX4,c])[c]\" # secondaary aromatic amine \n",
    "smarts_sub = search.SMARTSSubstructure(smarts)\n",
    "\n",
    "csd_search = search.SubstructureSearch()\n",
    "csd_search.add_substructure(smarts_sub)\n",
    "csd_search.add_substructure(smarts_sub) # enforces second amino group requirement \n",
    "\n",
    "csd_search.settings.only_organic = True\n",
    "csd_search.settings.must_not_have_elements = excluded_elements\n",
    "\n",
    "hits = csd_search.search()\n",
    "print(f\"Found {len(hits)} hits.\")\n",
    "# tns = TextNumericSearch()\n",
    "# # tns.add_heat_capacity_notes()\n",
    "# # tns.add_solubility_notes()\n",
    "# sub_search = ccdc.search.SubstructureSearch()\n",
    "# sub_search.add_substructure(ccdc.search.SMARTSSubstructure(\"[NX3;H1]([CX4,c])[c]\")) # secondaary aromatic amine\n",
    "# combi_search = ccdc.search.CombinedSearch(tns & sub_search)\n",
    "# hits = combi_search.search()\n",
    "# print(len(hits))\n",
    "# # hits[0].identifier"
   ]
  },
  {
   "cell_type": "markdown",
   "metadata": {},
   "source": [
    "### AMINO SEARCH"
   ]
  },
  {
   "cell_type": "code",
   "execution_count": 93,
   "metadata": {},
   "outputs": [
    {
     "name": "stdout",
     "output_type": "stream",
     "text": [
      "Found 960 hits.\n"
     ]
    },
    {
     "name": "stderr",
     "output_type": "stream",
     "text": [
      "Processing hits:   3%|▎         | 27/960 [01:44<1:16:15,  4.90s/it]"
     ]
    }
   ],
   "source": [
    "import ccdc\n",
    "from ccdc import search \n",
    "from rdkit import Chem\n",
    "from ccdc import io \n",
    "from rdkit.Chem import AllChem\n",
    "import re \n",
    "import numpy as np\n",
    "from ccdc import io \n",
    "import pandas as pd\n",
    "from tqdm import tqdm\n",
    "\n",
    "csd_reader = io.EntryReader(\"CSD\")\n",
    "\n",
    "##################################\n",
    "# USER INPUT \n",
    "##################################\n",
    "num_pri_amino = 1 # number of primary amino groups \n",
    "num_sec_amino = 0 # number of secondary amino groups\n",
    "num_ter_amino = 0 # number of tertiary amino groups\n",
    "\n",
    "num_aromatic_rings = 1 # number of aromatic rings\n",
    "# excluding any non C,N,H atom\n",
    "excluded_elements = [\n",
    "    \"He\", \"Li\", \"Be\", \"B\", \"O\", \"F\", \"Ne\", \"Na\", \"Mg\", \"Al\", \"Si\", \"P\", \"S\", \"Cl\", \"Ar\",\n",
    "    \"K\", \"Ca\", \"Sc\", \"Ti\", \"V\", \"Cr\", \"Mn\", \"Fe\", \"Co\", \"Ni\", \"Cu\", \"Zn\", \"Ga\", \"Ge\", \"As\", \"Se\", \"Br\", \"Kr\",\n",
    "    \"Rb\", \"Sr\", \"Y\", \"Zr\", \"Nb\", \"Mo\", \"Tc\", \"Ru\", \"Rh\", \"Pd\", \"Ag\", \"Cd\", \"In\", \"Sn\", \"Sb\", \"Te\", \"I\", \"Xe\",\n",
    "    \"Cs\", \"Ba\", \"La\", \"Ce\", \"Pr\", \"Nd\", \"Pm\", \"Sm\", \"Eu\", \"Gd\", \"Tb\", \"Dy\", \"Ho\", \"Er\", \"Tm\", \"Yb\", \"Lu\",\n",
    "    \"Hf\", \"Ta\", \"W\", \"Re\", \"Os\", \"Ir\", \"Pt\", \"Au\", \"Hg\", \"Tl\", \"Pb\", \"Bi\", \"Po\", \"At\", \"Rn\",\n",
    "    \"Fr\", \"Ra\", \"Ac\", \"Th\", \"Pa\", \"U\", \"Np\", \"Pu\", \"Am\", \"Cm\", \"Bk\", \"Cf\", \"Es\", \"Fm\", \"Md\", \"No\", \"Lr\",\n",
    "    \"Rf\", \"Db\", \"Sg\", \"Bh\", \"Hs\", \"Mt\", \"Ds\", \"Rg\", \"Cn\", \"Fl\", \"Lv\", \"Ts\", \"Og\"\n",
    "]\n",
    "\n",
    "# can implement crystal mass, volume, PLD, maximum pore diameter constraints in addition \n",
    "\n",
    "###########################\n",
    "# SEARCH SETTINGS \n",
    "###########################\n",
    "patterns = [\"[NX3;H2][CX4,cX3]\",\"[NX3;H1]([CX4,cX3])[CX4,cX3]\",  \"[NX3;H0]([CX4,cX3])([CX4,cX3])[CX4,cX3]\"] # primary, secondary, and tertiary amines\n",
    "groups = [num_pri_amino, num_sec_amino, num_ter_amino]\n",
    "\n",
    "csd_search = search.SubstructureSearch()\n",
    "csd_search.settings.only_organic = True\n",
    "csd_search.settings.must_not_have_elements = excluded_elements\n",
    "csd_search.settings.max_hit_structures = 5000\n",
    "\n",
    "############################\n",
    "# BUILDING QUERY\n",
    "############################\n",
    "for order in range(3):\n",
    "    smarts = patterns[order]\n",
    "    smarts_sub = search.SMARTSSubstructure(smarts)\n",
    "    for num in range(groups[order]):\n",
    "        csd_search.add_substructure(smarts_sub)\n",
    "\n",
    "#############################\n",
    "# COMPILE SEARCH RESULTS \n",
    "#############################\n",
    "hits = csd_search.search()\n",
    "hits_id = []\n",
    "for hit in hits:\n",
    "    id = hit.identifier\n",
    "    hits_id.append(id)\n",
    "\n",
    "hits = list(dict.fromkeys(hits_id)) # remove duplicates from search \n",
    "\n",
    "print(f\"Found {len(hits)} hits.\")\n",
    "\n",
    "###########################\n",
    "# PARSE SEARCH RESULTS \n",
    "###########################\n",
    "def extract_temperature(text):\n",
    "    if not text:\n",
    "        return None\n",
    "    match = re.search(r'at\\s+([\\d.]+)\\s*K', text)\n",
    "    if match:\n",
    "        return float(match.group(1))\n",
    "    return np.nan\n",
    "\n",
    "REFcode = []\n",
    "SMILES = []\n",
    "sys_vol = []\n",
    "sys_dens = [] \n",
    "PLD = []\n",
    "MPD = []\n",
    "temp = [] \n",
    "\n",
    "for hit in tqdm(hits, desc = \"Processing hits\"):\n",
    "    mol = io.MoleculeReader('csd').molecule(hit)\n",
    "    # Skip if SMILES can't be generated\n",
    "    try:\n",
    "        smiles = mol.components[0].to_string('smiles')\n",
    "    except RuntimeError:\n",
    "        continue  # Skip if SMILES can't be generated\n",
    "\n",
    "    # Calculate number of aromatic rings\n",
    "    aromaticity = sum(ring.is_aromatic for ring in mol.components[0].rings) \n",
    "\n",
    "    if aromaticity == num_aromatic_rings:\n",
    "        REFcode.append(hit)\n",
    "        SMILES.append(smiles)\n",
    "        crysDes = ccdc.descriptors.CrystalDescriptors.PoreAnalyser(io.CrystalReader('csd').crystal(hit))\n",
    "        sys_vol.append(crysDes.system_volume) # crystal cell volume \n",
    "        sys_dens.append(crysDes.system_density) # crystal cell density? \n",
    "        PLD.append(crysDes.pore_limiting_diameter) \n",
    "        MPD.append(crysDes.max_pore_diameter)\n",
    "        temp.append(extract_temperature(csd_reader.entry(hit).temperature)) # studied temperature\n",
    "        # add ORCA/polarizability calculation and temperature? \n",
    "\n",
    "    else: \n",
    "        continue\n",
    "\n",
    "df = pd.DataFrame({\n",
    "    'REFcode': REFcode,\n",
    "    'SMILES': SMILES,\n",
    "    'System Volume (Å³)': sys_vol,\n",
    "    'System Density (g/cm³)': sys_dens,\n",
    "    'PLD (Å)': PLD,\n",
    "    'MPD (Å)': MPD,\n",
    "    'Temperature (K)': temp\n",
    "})\n",
    "       \n",
    "df \n"
   ]
  }
 ],
 "metadata": {
  "kernelspec": {
   "display_name": "Python 3",
   "language": "python",
   "name": "python3"
  },
  "language_info": {
   "codemirror_mode": {
    "name": "ipython",
    "version": 3
   },
   "file_extension": ".py",
   "mimetype": "text/x-python",
   "name": "python",
   "nbconvert_exporter": "python",
   "pygments_lexer": "ipython3",
   "version": "3.11.13"
  }
 },
 "nbformat": 4,
 "nbformat_minor": 2
}
