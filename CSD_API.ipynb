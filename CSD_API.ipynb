{
 "cells": [
  {
   "cell_type": "code",
   "execution_count": 42,
   "metadata": {},
   "outputs": [],
   "source": [
    "import os\n",
    "os.environ[\"CSDHOME\"] = \"/Users/siddhant/CCDC2025/ccdc-data/csd\""
   ]
  },
  {
   "cell_type": "code",
   "execution_count": 43,
   "metadata": {},
   "outputs": [
    {
     "name": "stdout",
     "output_type": "stream",
     "text": [
      "Number of entries: 1371757\n"
     ]
    }
   ],
   "source": [
    "from ccdc import io \n",
    "csd_reader = io.EntryReader(\"CSD\")\n",
    "print(f\"Number of entries: {len(csd_reader)}\")"
   ]
  },
  {
   "cell_type": "code",
   "execution_count": 45,
   "metadata": {},
   "outputs": [
    {
     "data": {
      "text/plain": [
       "'c1cc:[B-](:cc1)/C=C/c1ccc(cc1)/C=C/[B-]1:ccccc:1'"
      ]
     },
     "execution_count": 45,
     "metadata": {},
     "output_type": "execute_result"
    }
   ],
   "source": [
    "# generate SMILES string based on REFcode\n",
    "io.MoleculeReader(\"csd\").molecule(\"ABEHUK\").components[1].to_string('smiles')"
   ]
  },
  {
   "cell_type": "code",
   "execution_count": 67,
   "metadata": {},
   "outputs": [
    {
     "data": {
      "text/plain": [
       "'ABACIR'"
      ]
     },
     "execution_count": 67,
     "metadata": {},
     "output_type": "execute_result"
    }
   ],
   "source": [
    "# search CSD for structures based on SMARTS match\n",
    "import ccdc.search\n",
    "queries = ccdc.search.SubstructureSearch()\n",
    "queries.add_substructure(ccdc.search.SMARTSSubstructure(\"[NX3;H1]([CX4,c])[c]\")) # secondaary aromatic amine\n",
    "hits = search.search()\n",
    "hits[0].identifier"
   ]
  },
  {
   "cell_type": "code",
   "execution_count": 79,
   "metadata": {},
   "outputs": [
    {
     "ename": "TypeError",
     "evalue": "MolecularDescriptors.atom_angle() missing 2 required positional arguments: 'b' and 'c'",
     "output_type": "error",
     "traceback": [
      "\u001b[31m---------------------------------------------------------------------------\u001b[39m",
      "\u001b[31mTypeError\u001b[39m                                 Traceback (most recent call last)",
      "\u001b[36mCell\u001b[39m\u001b[36m \u001b[39m\u001b[32mIn[79]\u001b[39m\u001b[32m, line 1\u001b[39m\n\u001b[32m----> \u001b[39m\u001b[32m1\u001b[39m \u001b[43mMolecularDescriptors\u001b[49m\u001b[43m.\u001b[49m\u001b[43matom_angle\u001b[49m\u001b[43m(\u001b[49m\u001b[43mmol\u001b[49m\u001b[43m)\u001b[49m\n",
      "\u001b[31mTypeError\u001b[39m: MolecularDescriptors.atom_angle() missing 2 required positional arguments: 'b' and 'c'"
     ]
    }
   ],
   "source": [
    "MolecularDescriptors."
   ]
  },
  {
   "cell_type": "code",
   "execution_count": 93,
   "metadata": {},
   "outputs": [
    {
     "data": {
      "text/plain": [
       "'CC(=O)NN1C=NN=C1N(N=Cc1c(Cl)cccc1Cl)C(C)=O'"
      ]
     },
     "execution_count": 93,
     "metadata": {},
     "output_type": "execute_result"
    }
   ],
   "source": [
    "csd = io.MoleculeReader('csd')\n",
    "csd[0].smiles"
   ]
  }
 ],
 "metadata": {
  "kernelspec": {
   "display_name": "Python 3",
   "language": "python",
   "name": "python3"
  },
  "language_info": {
   "codemirror_mode": {
    "name": "ipython",
    "version": 3
   },
   "file_extension": ".py",
   "mimetype": "text/x-python",
   "name": "python",
   "nbconvert_exporter": "python",
   "pygments_lexer": "ipython3",
   "version": "3.11.13"
  }
 },
 "nbformat": 4,
 "nbformat_minor": 2
}
