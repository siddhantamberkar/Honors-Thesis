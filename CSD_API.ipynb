{
 "cells": [
  {
   "cell_type": "code",
   "execution_count": 1,
   "metadata": {},
   "outputs": [],
   "source": [
    "import os\n",
    "os.environ[\"CSDHOME\"] = \"/Users/siddhant/CCDC2025/ccdc-data/csd\""
   ]
  },
  {
   "cell_type": "code",
   "execution_count": 2,
   "metadata": {},
   "outputs": [],
   "source": [
    "from ccdc import io \n",
    "csd_reader = io.EntryReader(\"CSD\")\n",
    "print(f\"Number of entries: {len(csd_reader)}\")"
   ]
  },
  {
   "cell_type": "code",
   "execution_count": 96,
   "metadata": {},
   "outputs": [
    {
     "data": {
      "text/plain": [
       "'c1cc:[B-](:cc1)/C=C/c1ccc(cc1)/C=C/[B-]1:ccccc:1'"
      ]
     },
     "execution_count": 96,
     "metadata": {},
     "output_type": "execute_result"
    }
   ],
   "source": [
    "# generate SMILES string based on REFcode\n",
    "io.MoleculeReader(\"csd\").molecule(\"ABEHUK\").components[1].to_string('smiles')"
   ]
  },
  {
   "cell_type": "code",
   "execution_count": 2,
   "metadata": {},
   "outputs": [],
   "source": [
    "# search CSD for structures based on SMARTS match\n",
    "from ccdc import search\n",
    "smarts = \"[NX3;H1]([CX4,c])[c]\" # secondaary aromatic amine \n",
    "smarts_sub = search.SMARTSSubstructure(smarts)\n",
    "\n",
    "csd_search = search.SubstructureSearch()\n",
    "csd_search.add_substructure(smarts_sub)\n",
    "csd_search.add_substructure(smarts_sub) # enforces second amino group requirement \n",
    "\n",
    "settings = search.Search.Settings()\n",
    "settings.only_organic = True\n",
    "hits = csd_search.search()\n",
    "print(f\"Found {len(hits)} hits.\")\n",
    "# tns = TextNumericSearch()\n",
    "# # tns.add_heat_capacity_notes()\n",
    "# # tns.add_solubility_notes()\n",
    "# sub_search = ccdc.search.SubstructureSearch()\n",
    "# sub_search.add_substructure(ccdc.search.SMARTSSubstructure(\"[NX3;H1]([CX4,c])[c]\")) # secondaary aromatic amine\n",
    "# combi_search = ccdc.search.CombinedSearch(tns & sub_search)\n",
    "# hits = combi_search.search()\n",
    "# print(len(hits))\n",
    "# # hits[0].identifier"
   ]
  },
  {
   "cell_type": "code",
   "execution_count": 309,
   "metadata": {},
   "outputs": [],
   "source": [
    "for hit in hits:\n",
    "    hit.measurements"
   ]
  },
  {
   "cell_type": "code",
   "execution_count": 311,
   "metadata": {},
   "outputs": [
    {
     "data": {
      "text/plain": [
       "'Cc1nccc2c1Nc1ccccc21'"
      ]
     },
     "execution_count": 311,
     "metadata": {},
     "output_type": "execute_result"
    }
   ],
   "source": [
    "hit.molecule.components[0].to_string('smiles')"
   ]
  },
  {
   "cell_type": "code",
   "execution_count": 286,
   "metadata": {},
   "outputs": [
    {
     "data": {
      "text/plain": [
       "[Atom(N1),\n",
       " Atom(N2),\n",
       " Atom(C1),\n",
       " Atom(C2),\n",
       " Atom(C3),\n",
       " Atom(C4),\n",
       " Atom(C5),\n",
       " Atom(C6),\n",
       " Atom(C7),\n",
       " Atom(C8),\n",
       " Atom(C9),\n",
       " Atom(C10),\n",
       " Atom(C11),\n",
       " Atom(C12),\n",
       " Atom(H11),\n",
       " Atom(H21),\n",
       " Atom(H51),\n",
       " Atom(H61),\n",
       " Atom(H71),\n",
       " Atom(H81),\n",
       " Atom(H123),\n",
       " Atom(H122),\n",
       " Atom(H121),\n",
       " Atom(H624)]"
      ]
     },
     "execution_count": 286,
     "metadata": {},
     "output_type": "execute_result"
    }
   ],
   "source": [
    "hits[-1].molecule.components[0].atoms"
   ]
  },
  {
   "cell_type": "code",
   "execution_count": 282,
   "metadata": {},
   "outputs": [
    {
     "data": {
      "text/plain": [
       "'Cc1nccc2c1Nc1ccccc21'"
      ]
     },
     "execution_count": 282,
     "metadata": {},
     "output_type": "execute_result"
    }
   ],
   "source": [
    "hits[-1].molecule.components[0].to_string('smiles')"
   ]
  },
  {
   "cell_type": "code",
   "execution_count": 229,
   "metadata": {},
   "outputs": [
    {
     "data": {
      "text/plain": [
       "5851.219187932209"
      ]
     },
     "execution_count": 229,
     "metadata": {},
     "output_type": "execute_result"
    }
   ],
   "source": [
    "hits[100].crystal.cell_volume"
   ]
  },
  {
   "cell_type": "code",
   "execution_count": 226,
   "metadata": {},
   "outputs": [
    {
     "data": {
      "text/plain": [
       "<module 'ccdc.molecule' from '/Users/siddhant/Documents/GitHub/SMILES-decoder/csd_env/lib/python3.11/site-packages/ccdc/molecule.py'>"
      ]
     },
     "execution_count": 226,
     "metadata": {},
     "output_type": "execute_result"
    }
   ],
   "source": [
    "ccdc.molecule"
   ]
  },
  {
   "cell_type": "code",
   "execution_count": 230,
   "metadata": {},
   "outputs": [
    {
     "data": {
      "text/plain": [
       "<ccdc.molecule.Molecule at 0x148a63dd0>"
      ]
     },
     "execution_count": 230,
     "metadata": {},
     "output_type": "execute_result"
    }
   ],
   "source": [
    "hit.crystal.c"
   ]
  },
  {
   "cell_type": "code",
   "execution_count": 290,
   "metadata": {},
   "outputs": [
    {
     "data": {
      "text/plain": [
       "'ZZZTDW03'"
      ]
     },
     "execution_count": 290,
     "metadata": {},
     "output_type": "execute_result"
    }
   ],
   "source": [
    "hit.molecule.identifier"
   ]
  },
  {
   "cell_type": "code",
   "execution_count": 291,
   "metadata": {},
   "outputs": [
    {
     "data": {
      "text/plain": [
       "1.2571444928903757"
      ]
     },
     "execution_count": 291,
     "metadata": {},
     "output_type": "execute_result"
    }
   ],
   "source": [
    "ccdc.descriptors.CrystalDescriptors.PoreAnalyser(hits[-1].crystal).system_density"
   ]
  },
  {
   "cell_type": "code",
   "execution_count": 241,
   "metadata": {},
   "outputs": [
    {
     "data": {
      "text/plain": [
       "2.1033840578932312"
      ]
     },
     "execution_count": 241,
     "metadata": {},
     "output_type": "execute_result"
    }
   ],
   "source": [
    "ccdc.descriptors.CrystalDescriptors.PoreAnalyser(hit.crystal).pore_limiting_diameter \n",
    "ccdc.descriptors.CrystalDescriptors.PoreAnalyser(hit.crystal).max_pore_diameter\n",
    "ccdc.descriptors.CrystalDescriptors.PoreAnalyser(hit.crystal).system_mass # g/mol\n",
    "ccdc.descriptors.CrystalDescriptors.PoreAnalyser(hit.crystal).system_density # g/cm^3\n",
    "ccdc.descriptors.CrystalDescriptors.PoreAnalyser(hit.crystal).system_volume # A^3 "
   ]
  },
  {
   "cell_type": "code",
   "execution_count": 249,
   "metadata": {},
   "outputs": [
    {
     "ename": "AttributeError",
     "evalue": "'PoreAnalyser' object has no attribute 'temperature'",
     "output_type": "error",
     "traceback": [
      "\u001b[31m---------------------------------------------------------------------------\u001b[39m",
      "\u001b[31mAttributeError\u001b[39m                            Traceback (most recent call last)",
      "\u001b[36mCell\u001b[39m\u001b[36m \u001b[39m\u001b[32mIn[249]\u001b[39m\u001b[32m, line 1\u001b[39m\n\u001b[32m----> \u001b[39m\u001b[32m1\u001b[39m \u001b[43mccdc\u001b[49m\u001b[43m.\u001b[49m\u001b[43mdescriptors\u001b[49m\u001b[43m.\u001b[49m\u001b[43mCrystalDescriptors\u001b[49m\u001b[43m.\u001b[49m\u001b[43mPoreAnalyser\u001b[49m\u001b[43m(\u001b[49m\u001b[43mio\u001b[49m\u001b[43m.\u001b[49m\u001b[43mMoleculeReader\u001b[49m\u001b[43m(\u001b[49m\u001b[33;43m\"\u001b[39;49m\u001b[33;43mcsd\u001b[39;49m\u001b[33;43m\"\u001b[39;49m\u001b[43m)\u001b[49m\u001b[43m.\u001b[49m\u001b[43mcrystal\u001b[49m\u001b[43m(\u001b[49m\u001b[33;43m\"\u001b[39;49m\u001b[33;43mAFEXUF\u001b[39;49m\u001b[33;43m\"\u001b[39;49m\u001b[43m)\u001b[49m\u001b[43m)\u001b[49m\u001b[43m.\u001b[49m\u001b[43mtemperature\u001b[49m\n",
      "\u001b[31mAttributeError\u001b[39m: 'PoreAnalyser' object has no attribute 'temperature'"
     ]
    }
   ],
   "source": [
    "ccdc.descriptors.CrystalDescriptors.PoreAnalyser(io.MoleculeReader(\"csd\").crystal(\"AFEXUF\")).temperature"
   ]
  },
  {
   "cell_type": "code",
   "execution_count": 257,
   "metadata": {},
   "outputs": [
    {
     "ename": "AttributeError",
     "evalue": "'SubstructureHit' object has no attribute 'atoms'",
     "output_type": "error",
     "traceback": [
      "\u001b[31m---------------------------------------------------------------------------\u001b[39m",
      "\u001b[31mAttributeError\u001b[39m                            Traceback (most recent call last)",
      "\u001b[36mCell\u001b[39m\u001b[36m \u001b[39m\u001b[32mIn[257]\u001b[39m\u001b[32m, line 1\u001b[39m\n\u001b[32m----> \u001b[39m\u001b[32m1\u001b[39m \u001b[43mhit\u001b[49m\u001b[43m.\u001b[49m\u001b[43matoms\u001b[49m\n",
      "\u001b[31mAttributeError\u001b[39m: 'SubstructureHit' object has no attribute 'atoms'"
     ]
    }
   ],
   "source": [
    "hit.atoms"
   ]
  },
  {
   "cell_type": "code",
   "execution_count": 258,
   "metadata": {},
   "outputs": [
    {
     "ename": "AttributeError",
     "evalue": "'Molecule' object has no attribute 'pop'",
     "output_type": "error",
     "traceback": [
      "\u001b[31m---------------------------------------------------------------------------\u001b[39m",
      "\u001b[31mAttributeError\u001b[39m                            Traceback (most recent call last)",
      "\u001b[36mCell\u001b[39m\u001b[36m \u001b[39m\u001b[32mIn[258]\u001b[39m\u001b[32m, line 1\u001b[39m\n\u001b[32m----> \u001b[39m\u001b[32m1\u001b[39m \u001b[43mccdc\u001b[49m\u001b[43m.\u001b[49m\u001b[43mmolecule\u001b[49m\u001b[43m.\u001b[49m\u001b[43mRing\u001b[49m\u001b[43m(\u001b[49m\u001b[43mhit\u001b[49m\u001b[43m.\u001b[49m\u001b[43mmolecule\u001b[49m\u001b[43m)\u001b[49m\n",
      "\u001b[36mFile \u001b[39m\u001b[32m~/Documents/GitHub/SMILES-decoder/csd_env/lib/python3.11/site-packages/ccdc/molecule.py:990\u001b[39m, in \u001b[36mRing.__init__\u001b[39m\u001b[34m(self, atoms, _molecule)\u001b[39m\n\u001b[32m    988\u001b[39m \u001b[38;5;28;01mdef\u001b[39;00m\u001b[38;5;250m \u001b[39m\u001b[34m__init__\u001b[39m(\u001b[38;5;28mself\u001b[39m, atoms, _molecule=\u001b[38;5;28;01mNone\u001b[39;00m):\n\u001b[32m    989\u001b[39m     \u001b[38;5;28mself\u001b[39m._molecule = _molecule\n\u001b[32m--> \u001b[39m\u001b[32m990\u001b[39m     path = [\u001b[43matoms\u001b[49m\u001b[43m.\u001b[49m\u001b[43mpop\u001b[49m()]\n\u001b[32m    991\u001b[39m     \u001b[38;5;28;01mfor\u001b[39;00m p \u001b[38;5;129;01min\u001b[39;00m Ring._paths_through_atoms(atoms, path):\n\u001b[32m    992\u001b[39m         \u001b[38;5;28mself\u001b[39m.atoms = p\n",
      "\u001b[31mAttributeError\u001b[39m: 'Molecule' object has no attribute 'pop'"
     ]
    }
   ],
   "source": [
    "ccdc.molecule.Ring(hit.molecule)"
   ]
  },
  {
   "cell_type": "code",
   "execution_count": 242,
   "metadata": {},
   "outputs": [
    {
     "data": {
      "text/plain": [
       "1925.5367821536"
      ]
     },
     "execution_count": 242,
     "metadata": {},
     "output_type": "execute_result"
    }
   ],
   "source": [
    "ccdc.descriptors.CrystalDescriptors.PoreAnalyser(hit.crystal).system_volume"
   ]
  },
  {
   "cell_type": "code",
   "execution_count": 198,
   "metadata": {},
   "outputs": [
    {
     "ename": "TypeError",
     "evalue": "in method 'PoreCalculator_convert_cubic_angstoms_to_cubic_centimetres_per_gram', argument 2 of type 'double'",
     "output_type": "error",
     "traceback": [
      "\u001b[31m---------------------------------------------------------------------------\u001b[39m",
      "\u001b[31mTypeError\u001b[39m                                 Traceback (most recent call last)",
      "\u001b[36mCell\u001b[39m\u001b[36m \u001b[39m\u001b[32mIn[198]\u001b[39m\u001b[32m, line 1\u001b[39m\n\u001b[32m----> \u001b[39m\u001b[32m1\u001b[39m \u001b[43mccdc\u001b[49m\u001b[43m.\u001b[49m\u001b[43mdescriptors\u001b[49m\u001b[43m.\u001b[49m\u001b[43mCrystalDescriptors\u001b[49m\u001b[43m.\u001b[49m\u001b[43mPoreAnalyser\u001b[49m\u001b[43m(\u001b[49m\u001b[43mhit\u001b[49m\u001b[43m.\u001b[49m\u001b[43mcrystal\u001b[49m\u001b[43m)\u001b[49m\u001b[43m.\u001b[49m\u001b[43mconvert_a3_to_cm3_per_g\u001b[49m\u001b[43m(\u001b[49m\u001b[33;43m'\u001b[39;49m\u001b[33;43mpore_limiting_diameter\u001b[39;49m\u001b[33;43m'\u001b[39;49m\u001b[43m)\u001b[49m\n",
      "\u001b[36mFile \u001b[39m\u001b[32m~/Documents/GitHub/SMILES-decoder/csd_env/lib/python3.11/site-packages/ccdc/descriptors.py:3879\u001b[39m, in \u001b[36mCrystalDescriptors.PoreAnalyser.convert_a3_to_cm3_per_g\u001b[39m\u001b[34m(self, volume)\u001b[39m\n\u001b[32m   3877\u001b[39m \u001b[38;5;250m\u001b[39m\u001b[33;03m'''Utility to convert cubic angstroms to cm^3 per g'''\u001b[39;00m\n\u001b[32m   3878\u001b[39m \u001b[38;5;28mself\u001b[39m._initialize_calculator()\n\u001b[32m-> \u001b[39m\u001b[32m3879\u001b[39m \u001b[38;5;28;01mreturn\u001b[39;00m \u001b[38;5;28;43mself\u001b[39;49m\u001b[43m.\u001b[49m\u001b[43m_pore_calculator\u001b[49m\u001b[43m.\u001b[49m\u001b[43mconvert_cubic_angstoms_to_cubic_centimetres_per_gram\u001b[49m\u001b[43m(\u001b[49m\n\u001b[32m   3880\u001b[39m \u001b[43m    \u001b[49m\u001b[43mvolume\u001b[49m\u001b[43m,\u001b[49m\u001b[43m \u001b[49m\u001b[38;5;28;43mself\u001b[39;49m\u001b[43m.\u001b[49m\u001b[43msystem_mass\u001b[49m\u001b[43m)\u001b[49m\n",
      "\u001b[36mFile \u001b[39m\u001b[32m~/Documents/GitHub/SMILES-decoder/csd_env/lib/python3.11/site-packages/ccdc/_lib/PoreAnalyserLib311.py:647\u001b[39m, in \u001b[36mPoreCalculator.convert_cubic_angstoms_to_cubic_centimetres_per_gram\u001b[39m\u001b[34m(self, accessible_volume, system_mass)\u001b[39m\n\u001b[32m    646\u001b[39m \u001b[38;5;28;01mdef\u001b[39;00m\u001b[38;5;250m \u001b[39m\u001b[34mconvert_cubic_angstoms_to_cubic_centimetres_per_gram\u001b[39m(\u001b[38;5;28mself\u001b[39m, accessible_volume, system_mass):\n\u001b[32m--> \u001b[39m\u001b[32m647\u001b[39m     \u001b[38;5;28;01mreturn\u001b[39;00m \u001b[43m_PoreAnalyserLib311\u001b[49m\u001b[43m.\u001b[49m\u001b[43mPoreCalculator_convert_cubic_angstoms_to_cubic_centimetres_per_gram\u001b[49m\u001b[43m(\u001b[49m\u001b[38;5;28;43mself\u001b[39;49m\u001b[43m,\u001b[49m\u001b[43m \u001b[49m\u001b[43maccessible_volume\u001b[49m\u001b[43m,\u001b[49m\u001b[43m \u001b[49m\u001b[43msystem_mass\u001b[49m\u001b[43m)\u001b[49m\n",
      "\u001b[31mTypeError\u001b[39m: in method 'PoreCalculator_convert_cubic_angstoms_to_cubic_centimetres_per_gram', argument 2 of type 'double'"
     ]
    }
   ],
   "source": [
    "ccdc.descriptors.CrystalDescriptors.PoreAnalyser(hit.crystal).convert_a3_to_cm3_per_g('pore_limiting_diameter')"
   ]
  },
  {
   "cell_type": "code",
   "execution_count": 167,
   "metadata": {},
   "outputs": [
    {
     "data": {
      "text/plain": [
       "'Cc1nccc2c1Nc1ccccc21'"
      ]
     },
     "execution_count": 167,
     "metadata": {},
     "output_type": "execute_result"
    }
   ],
   "source": [
    "hit.molecule.components[0].to_string('smiles')"
   ]
  },
  {
   "cell_type": "code",
   "execution_count": 111,
   "metadata": {},
   "outputs": [
    {
     "data": {
      "text/plain": [
       "'O=N(=O)c1ccccc1NCC1=CSC(=C1)S(=O)(=O)NC1CCCCC1'"
      ]
     },
     "execution_count": 111,
     "metadata": {},
     "output_type": "execute_result"
    }
   ],
   "source": [
    "hits[0].molecule.components[0].to_string('smiles')"
   ]
  },
  {
   "cell_type": "code",
   "execution_count": 117,
   "metadata": {},
   "outputs": [
    {
     "ename": "AttributeError",
     "evalue": "'TextNumericSearch' object has no attribute 'add_substructure'",
     "output_type": "error",
     "traceback": [
      "\u001b[31m---------------------------------------------------------------------------\u001b[39m",
      "\u001b[31mAttributeError\u001b[39m                            Traceback (most recent call last)",
      "\u001b[36mCell\u001b[39m\u001b[36m \u001b[39m\u001b[32mIn[117]\u001b[39m\u001b[32m, line 3\u001b[39m\n\u001b[32m      1\u001b[39m \u001b[38;5;28;01mfrom\u001b[39;00m\u001b[38;5;250m \u001b[39m\u001b[34;01mccdc\u001b[39;00m\u001b[34;01m.\u001b[39;00m\u001b[34;01msearch\u001b[39;00m\u001b[38;5;250m \u001b[39m\u001b[38;5;28;01mimport\u001b[39;00m TextNumericSearch\n\u001b[32m      2\u001b[39m query = TextNumericSearch()\n\u001b[32m----> \u001b[39m\u001b[32m3\u001b[39m \u001b[43mquery\u001b[49m\u001b[43m.\u001b[49m\u001b[43madd_substructure\u001b[49m(ccdc.search.SMARTSSubstructure(\u001b[33m'\u001b[39m\u001b[33m[c]\u001b[39m\u001b[33m'\u001b[39m))\n\u001b[32m      4\u001b[39m hits = query.search()\n",
      "\u001b[31mAttributeError\u001b[39m: 'TextNumericSearch' object has no attribute 'add_substructure'"
     ]
    }
   ],
   "source": [
    "from ccdc.search import TextNumericSearch\n",
    "query = TextNumericSearch()\n",
    "query.add_substructure(ccdc.search.SMARTSSubstructure('[c]'))\n",
    "hits = query.search()\n"
   ]
  },
  {
   "cell_type": "code",
   "execution_count": 116,
   "metadata": {},
   "outputs": [
    {
     "data": {
      "text/plain": [
       "'O=C1SC(=O)N2CCCCN12'"
      ]
     },
     "execution_count": 116,
     "metadata": {},
     "output_type": "execute_result"
    }
   ],
   "source": [
    "hits[0].molecule.components[0].to_string('smiles')\n"
   ]
  },
  {
   "cell_type": "code",
   "execution_count": 93,
   "metadata": {},
   "outputs": [
    {
     "data": {
      "text/plain": [
       "'CC(=O)NN1C=NN=C1N(N=Cc1c(Cl)cccc1Cl)C(C)=O'"
      ]
     },
     "execution_count": 93,
     "metadata": {},
     "output_type": "execute_result"
    }
   ],
   "source": [
    "csd = io.MoleculeReader('csd')\n",
    "csd[0].smiles"
   ]
  },
  {
   "cell_type": "markdown",
   "metadata": {},
   "source": [
    "### AMINO SEARCH"
   ]
  },
  {
   "cell_type": "code",
   "execution_count": 440,
   "metadata": {},
   "outputs": [
    {
     "name": "stdout",
     "output_type": "stream",
     "text": [
      "['__class__', '__delattr__', '__dict__', '__dir__', '__doc__', '__eq__', '__format__', '__ge__', '__getattribute__', '__getstate__', '__gt__', '__hash__', '__init__', '__init_subclass__', '__le__', '__lt__', '__module__', '__ne__', '__new__', '__reduce__', '__reduce_ex__', '__repr__', '__setattr__', '__sizeof__', '__str__', '__subclasshook__', '__weakref__', '_enantiomer_match_type_dict', '_has_filter_set', '_match_enantiomers', '_settings', 'has_3d_coordinates', 'match_enantiomers', 'max_hit_structures', 'max_hits_per_structure', 'max_r_factor', 'must_have_elements', 'must_not_have_elements', 'no_disorder', 'no_errors', 'no_ions', 'no_metals', 'no_powder', 'not_polymeric', 'only_organic', 'only_organometallic', 'test']\n"
     ]
    }
   ],
   "source": [
    "print(dir(csd_search.Settings()))"
   ]
  },
  {
   "cell_type": "code",
   "execution_count": 436,
   "metadata": {},
   "outputs": [
    {
     "data": {
      "text/plain": [
       "<ccdc.search.SubstructureSearch.Settings at 0x1484fc590>"
      ]
     },
     "execution_count": 436,
     "metadata": {},
     "output_type": "execute_result"
    }
   ],
   "source": [
    "csd_search.Settings('must_not_have_elements' == excluded_elements)"
   ]
  },
  {
   "cell_type": "code",
   "execution_count": 445,
   "metadata": {},
   "outputs": [
    {
     "data": {
      "text/plain": [
       "'AFEFID'"
      ]
     },
     "execution_count": 445,
     "metadata": {},
     "output_type": "execute_result"
    }
   ],
   "source": [
    "hit.identifier"
   ]
  },
  {
   "cell_type": "code",
   "execution_count": null,
   "metadata": {},
   "outputs": [],
   "source": [
    "from ccdc import search \n",
    "from rdkit import Chem\n",
    "from ccdc import io \n",
    "from rdkit.Chem import AllChem\n",
    "import re \n",
    "import numpy as np\n",
    "from ccdc import io \n",
    "\n",
    "csd_reader = io.EntryReader(\"CSD\")\n",
    "\n",
    "########################\n",
    "# USER INPUT\n",
    "#########################\n",
    "num_pri_amino = 1 # number of primary amino groups \n",
    "num_sec_amino = 0 # number of secondary amino groups\n",
    "num_ter_amino = 0 # number of tertiary amino groups\n",
    "\n",
    "num_aromatic_rings = 1 # number of aromatic rings\n",
    "allowed_atoms = [\"C\", \"N\", \"H\"]\n",
    "excluded_elements = [\n",
    "    \"He\", \"Li\", \"Be\", \"B\", \"O\", \"F\", \"Ne\", \"Na\", \"Mg\", \"Al\", \"Si\", \"P\", \"S\", \"Cl\", \"Ar\",\n",
    "    \"K\", \"Ca\", \"Sc\", \"Ti\", \"V\", \"Cr\", \"Mn\", \"Fe\", \"Co\", \"Ni\", \"Cu\", \"Zn\", \"Ga\", \"Ge\", \"As\", \"Se\", \"Br\", \"Kr\",\n",
    "    \"Rb\", \"Sr\", \"Y\", \"Zr\", \"Nb\", \"Mo\", \"Tc\", \"Ru\", \"Rh\", \"Pd\", \"Ag\", \"Cd\", \"In\", \"Sn\", \"Sb\", \"Te\", \"I\", \"Xe\",\n",
    "    \"Cs\", \"Ba\", \"La\", \"Ce\", \"Pr\", \"Nd\", \"Pm\", \"Sm\", \"Eu\", \"Gd\", \"Tb\", \"Dy\", \"Ho\", \"Er\", \"Tm\", \"Yb\", \"Lu\",\n",
    "    \"Hf\", \"Ta\", \"W\", \"Re\", \"Os\", \"Ir\", \"Pt\", \"Au\", \"Hg\", \"Tl\", \"Pb\", \"Bi\", \"Po\", \"At\", \"Rn\",\n",
    "    \"Fr\", \"Ra\", \"Ac\", \"Th\", \"Pa\", \"U\", \"Np\", \"Pu\", \"Am\", \"Cm\", \"Bk\", \"Cf\", \"Es\", \"Fm\", \"Md\", \"No\", \"Lr\",\n",
    "    \"Rf\", \"Db\", \"Sg\", \"Bh\", \"Hs\", \"Mt\", \"Ds\", \"Rg\", \"Cn\", \"Fl\", \"Lv\", \"Ts\", \"Og\"\n",
    "]\n",
    "\n",
    "# can implement crystal mass, volume, PLD, maximum pore diameter constraints in addition \n",
    "\n",
    "###########################\n",
    "# SEARCH SETTINGS \n",
    "###########################\n",
    "patterns = [\"[NX3;H2][CX4,cX3]\",\"[NX3;H1]([CX4,cX3])[CX4,cX3]\",  \"[NX3;H0]([CX4,cX3])([CX4,cX3])[CX4,cX3]\"] # primary, secondary, and tertiary amines\n",
    "groups = [num_pri_amino, num_sec_amino, num_ter_amino]\n",
    "settings = search.Search.Settings() # doesn't seem to work at all \n",
    "settings.must_not_have_elements = excluded_elements\n",
    "settings.only_organic = True\n",
    "\n",
    "###########################\n",
    "# BUILDING QUERY \n",
    "###########################\n",
    "csd_search = search.SubstructureSearch()\n",
    "\n",
    "for order in range(3):\n",
    "    smarts = patterns[order]\n",
    "    smarts_sub = search.SMARTSSubstructure(smarts)\n",
    "    for num in range(groups[order]):\n",
    "        csd_search.add_substructure(smarts_sub)\n",
    "\n",
    "###########################\n",
    "# COMPILE SEARCH RESULTS \n",
    "########################### \n",
    "hits = csd_search.search()\n",
    "print(f\"Found {len(hits)} hits.\")\n",
    "\n",
    "###########################\n",
    "# PARSE SEARCH RESULTS \n",
    "###########################\n",
    "def extract_temperature(text):\n",
    "    if not text:\n",
    "        return None\n",
    "    match = re.search(r'at\\s+([\\d.]+)\\s*K', text)\n",
    "    if match:\n",
    "        return float(match.group(1))\n",
    "    return np.nan\n",
    "\n",
    "REFcode = []\n",
    "SMILES = []\n",
    "sys_vol = []\n",
    "sys_dens = [] \n",
    "PLD = []\n",
    "MPD = []\n",
    "temp = [] \n",
    "\n",
    "from concurrent.futures import ThreadPoolExecutor, as_completed # parallelize post-processing\n",
    "from tqdm import tqdm\n",
    "\n",
    "def process_hit(hit):\n",
    "    mol = hit.molecule.components[0]\n",
    "\n",
    "    # Filter only C, H, N atoms\n",
    "    if not all(atom.atomic_symbol in allowed_atoms for atom in mol.atoms):\n",
    "        return None\n",
    "\n",
    "    # Generate SMILES strings\n",
    "    try:\n",
    "        smiles = mol.to_string('smiles')\n",
    "    except RuntimeError:\n",
    "        return None # Skip if fails to generate SMILE string\n",
    "\n",
    "    # Calculate number of aromatic rings\n",
    "    if sum(r.is_aromatic for r in mol.rings) != num_aromatic_rings:\n",
    "        return None\n",
    "\n",
    "    crysDes = ccdc.descriptors.CrystalDescriptors.PoreAnalyser(hit.crystal)\n",
    "    entry = csd_reader.entry(hit.identifier)\n",
    "\n",
    "    return {\n",
    "        'REFcode': hit.molecule.identifier,\n",
    "        'SMILES': smiles,\n",
    "        'System Volume (Å³)': crysDes.system_volume,\n",
    "        'System Density (g/cm³)': crysDes.system_density,\n",
    "        'PLD (Å)': crysDes.pore_limiting_diameter,\n",
    "        'MPD (Å)': crysDes.max_pore_diameter,\n",
    "        'Temperature (K)': extract_temperature(entry.temperature)\n",
    "    }\n",
    "\n",
    "results = []\n",
    "with ThreadPoolExecutor(max_workers=8) as executor:\n",
    "    futures = {executor.submit(process_hit, hit): hit for hit in hits}\n",
    "    for future in tqdm(as_completed(futures), total=len(futures), desc=\"Processing hits\"):\n",
    "        result = future.result()\n",
    "        if result is not None:\n",
    "            results.append(result)\n",
    "\n",
    "df = pd.DataFrame(results)\n",
    "       \n",
    "df \n",
    "\n"
   ]
  },
  {
   "cell_type": "code",
   "execution_count": 413,
   "metadata": {},
   "outputs": [
    {
     "name": "stderr",
     "output_type": "stream",
     "text": [
      "Processing hits:   0%|          | 0/36235 [00:00<?, ?it/s]"
     ]
    },
    {
     "name": "stderr",
     "output_type": "stream",
     "text": [
      "Processing hits:   2%|▏         | 904/36235 [05:21<3:29:34,  2.81it/s] \n"
     ]
    },
    {
     "ename": "KeyboardInterrupt",
     "evalue": "",
     "output_type": "error",
     "traceback": [
      "\u001b[31m---------------------------------------------------------------------------\u001b[39m",
      "\u001b[31mKeyboardInterrupt\u001b[39m                         Traceback (most recent call last)",
      "\u001b[36mCell\u001b[39m\u001b[36m \u001b[39m\u001b[32mIn[413]\u001b[39m\u001b[32m, line 43\u001b[39m\n\u001b[32m     41\u001b[39m crysDes = ccdc.descriptors.CrystalDescriptors.PoreAnalyser(hit.crystal)\n\u001b[32m     42\u001b[39m sys_vol.append(crysDes.system_volume) \u001b[38;5;66;03m# crystal cell volume \u001b[39;00m\n\u001b[32m---> \u001b[39m\u001b[32m43\u001b[39m sys_dens.append(\u001b[43mcrysDes\u001b[49m\u001b[43m.\u001b[49m\u001b[43msystem_density\u001b[49m) \u001b[38;5;66;03m# crystal cell density? \u001b[39;00m\n\u001b[32m     44\u001b[39m PLD.append(crysDes.pore_limiting_diameter) \n\u001b[32m     45\u001b[39m MPD.append(crysDes.max_pore_diameter)\n",
      "\u001b[36mFile \u001b[39m\u001b[32m~/Documents/GitHub/SMILES-decoder/csd_env/lib/python3.11/site-packages/ccdc/descriptors.py:3711\u001b[39m, in \u001b[36mCrystalDescriptors.PoreAnalyser.system_density\u001b[39m\u001b[34m(self)\u001b[39m\n\u001b[32m   3709\u001b[39m \u001b[38;5;250m\u001b[39m\u001b[33;03m'''Result: density (g/cm^3)'''\u001b[39;00m\n\u001b[32m   3710\u001b[39m \u001b[38;5;28;01mif\u001b[39;00m \u001b[38;5;129;01mnot\u001b[39;00m \u001b[38;5;28mself\u001b[39m._flags.system_density_valid:\n\u001b[32m-> \u001b[39m\u001b[32m3711\u001b[39m     \u001b[38;5;28mself\u001b[39m._system_density = \u001b[38;5;28mself\u001b[39m._calculate_system_density(\u001b[38;5;28;43mself\u001b[39;49m\u001b[43m.\u001b[49m\u001b[43msystem_mass\u001b[49m, \u001b[38;5;28mself\u001b[39m.system_volume)\n\u001b[32m   3712\u001b[39m     \u001b[38;5;28mself\u001b[39m._flags.density_valid = \u001b[38;5;28;01mTrue\u001b[39;00m\n\u001b[32m   3713\u001b[39m \u001b[38;5;28;01mreturn\u001b[39;00m \u001b[38;5;28mself\u001b[39m._system_density\n",
      "\u001b[36mFile \u001b[39m\u001b[32m~/Documents/GitHub/SMILES-decoder/csd_env/lib/python3.11/site-packages/ccdc/descriptors.py:3696\u001b[39m, in \u001b[36mCrystalDescriptors.PoreAnalyser.system_mass\u001b[39m\u001b[34m(self)\u001b[39m\n\u001b[32m   3694\u001b[39m \u001b[38;5;250m\u001b[39m\u001b[33;03m'''Result: mass of unit cell (g/mol)'''\u001b[39;00m\n\u001b[32m   3695\u001b[39m \u001b[38;5;28;01mif\u001b[39;00m \u001b[38;5;129;01mnot\u001b[39;00m \u001b[38;5;28mself\u001b[39m._flags.system_mass_valid:\n\u001b[32m-> \u001b[39m\u001b[32m3696\u001b[39m     \u001b[38;5;28mself\u001b[39m._system_mass = \u001b[38;5;28;43mself\u001b[39;49m\u001b[43m.\u001b[49m\u001b[43m_calculate_system_mass\u001b[49m\u001b[43m(\u001b[49m\u001b[43m)\u001b[49m\n\u001b[32m   3697\u001b[39m     \u001b[38;5;28mself\u001b[39m._flags.system_mass_valid = \u001b[38;5;28;01mTrue\u001b[39;00m\n\u001b[32m   3698\u001b[39m     \u001b[38;5;28mself\u001b[39m._flags.system_density_valid = \u001b[38;5;28;01mFalse\u001b[39;00m\n",
      "\u001b[36mFile \u001b[39m\u001b[32m~/Documents/GitHub/SMILES-decoder/csd_env/lib/python3.11/site-packages/ccdc/descriptors.py:3704\u001b[39m, in \u001b[36mCrystalDescriptors.PoreAnalyser._calculate_system_mass\u001b[39m\u001b[34m(self)\u001b[39m\n\u001b[32m   3703\u001b[39m \u001b[38;5;28;01mdef\u001b[39;00m\u001b[38;5;250m \u001b[39m\u001b[34m_calculate_system_mass\u001b[39m(\u001b[38;5;28mself\u001b[39m):\n\u001b[32m-> \u001b[39m\u001b[32m3704\u001b[39m     \u001b[38;5;28;43mself\u001b[39;49m\u001b[43m.\u001b[49m\u001b[43m_initialize_calculator\u001b[49m\u001b[43m(\u001b[49m\u001b[43m)\u001b[49m\n\u001b[32m   3705\u001b[39m     \u001b[38;5;28;01mreturn\u001b[39;00m \u001b[38;5;28mself\u001b[39m._pore_calculator.calculate_crystal_structure_mass()\n",
      "\u001b[36mFile \u001b[39m\u001b[32m~/Documents/GitHub/SMILES-decoder/csd_env/lib/python3.11/site-packages/ccdc/descriptors.py:3886\u001b[39m, in \u001b[36mCrystalDescriptors.PoreAnalyser._initialize_calculator\u001b[39m\u001b[34m(self)\u001b[39m\n\u001b[32m   3884\u001b[39m \u001b[38;5;28;01mdef\u001b[39;00m\u001b[38;5;250m \u001b[39m\u001b[34m_initialize_calculator\u001b[39m(\u001b[38;5;28mself\u001b[39m):\n\u001b[32m   3885\u001b[39m     \u001b[38;5;28;01mif\u001b[39;00m \u001b[38;5;129;01mnot\u001b[39;00m \u001b[38;5;28mself\u001b[39m._flags.calculator_is_valid:\n\u001b[32m-> \u001b[39m\u001b[32m3886\u001b[39m         \u001b[38;5;28mself\u001b[39m._pore_calculator = \u001b[43mPoreAnalyserLib\u001b[49m\u001b[43m.\u001b[49m\u001b[43mPoreCalculator\u001b[49m\u001b[43m(\u001b[49m\n\u001b[32m   3887\u001b[39m \u001b[43m                \u001b[49m\u001b[38;5;28;43mself\u001b[39;49m\u001b[43m.\u001b[49m\u001b[43m_crystal\u001b[49m\u001b[43m.\u001b[49m\u001b[43m_crystal\u001b[49m\u001b[43m,\u001b[49m\n\u001b[32m   3888\u001b[39m \u001b[43m                \u001b[49m\u001b[38;5;28;43mself\u001b[39;49m\u001b[43m.\u001b[49m\u001b[43msettings\u001b[49m\u001b[43m.\u001b[49m\u001b[43mgrid_spacing\u001b[49m\u001b[43m,\u001b[49m\n\u001b[32m   3889\u001b[39m \u001b[43m                \u001b[49m\u001b[38;5;28;43mself\u001b[39;49m\u001b[43m.\u001b[49m\u001b[43msettings\u001b[49m\u001b[43m.\u001b[49m\u001b[43mcutoff_distance\u001b[49m\u001b[43m,\u001b[49m\n\u001b[32m   3890\u001b[39m \u001b[43m                \u001b[49m\u001b[38;5;28;43mself\u001b[39;49m\u001b[43m.\u001b[49m\u001b[43msettings\u001b[49m\u001b[43m.\u001b[49m\u001b[43mhe_probe_sigma\u001b[49m\u001b[43m,\u001b[49m\n\u001b[32m   3891\u001b[39m \u001b[43m                \u001b[49m\u001b[38;5;28;43mself\u001b[39;49m\u001b[43m.\u001b[49m\u001b[43msettings\u001b[49m\u001b[43m.\u001b[49m\u001b[43mhe_probe_epsilon\u001b[49m\u001b[43m,\u001b[49m\n\u001b[32m   3892\u001b[39m \u001b[43m                \u001b[49m\u001b[38;5;28;43mself\u001b[39;49m\u001b[43m.\u001b[49m\u001b[43msettings\u001b[49m\u001b[43m.\u001b[49m\u001b[43mn_probe_sigma\u001b[49m\n\u001b[32m   3893\u001b[39m \u001b[43m        \u001b[49m\u001b[43m)\u001b[49m\n\u001b[32m   3894\u001b[39m         \u001b[38;5;28mself\u001b[39m._flags.calculator_is_valid = \u001b[38;5;28;01mTrue\u001b[39;00m\n",
      "\u001b[36mFile \u001b[39m\u001b[32m~/Documents/GitHub/SMILES-decoder/csd_env/lib/python3.11/site-packages/ccdc/_lib/PoreAnalyserLib311.py:610\u001b[39m, in \u001b[36mPoreCalculator.__init__\u001b[39m\u001b[34m(self, *args)\u001b[39m\n\u001b[32m    609\u001b[39m \u001b[38;5;28;01mdef\u001b[39;00m\u001b[38;5;250m \u001b[39m\u001b[34m__init__\u001b[39m(\u001b[38;5;28mself\u001b[39m, *args):\n\u001b[32m--> \u001b[39m\u001b[32m610\u001b[39m     _PoreAnalyserLib311.PoreCalculator_swiginit(\u001b[38;5;28mself\u001b[39m, \u001b[43m_PoreAnalyserLib311\u001b[49m\u001b[43m.\u001b[49m\u001b[43mnew_PoreCalculator\u001b[49m\u001b[43m(\u001b[49m\u001b[43m*\u001b[49m\u001b[43margs\u001b[49m\u001b[43m)\u001b[49m)\n",
      "\u001b[31mKeyboardInterrupt\u001b[39m: "
     ]
    }
   ],
   "source": [
    "import re\n",
    "import pandas as pd\n",
    "from tqdm import tqdm\n",
    "def extract_temperature(text):\n",
    "    if not text:\n",
    "        return None\n",
    "    match = re.search(r'at\\s+([\\d.]+)\\s*K', text)\n",
    "    if match:\n",
    "        return float(match.group(1))\n",
    "    return np.nan\n",
    "\n",
    "allowed_atoms = {\"C\", \"H\", \"N\"}\n",
    "\n",
    "REFcode = []\n",
    "SMILES = []\n",
    "sys_vol = []\n",
    "sys_dens = [] \n",
    "PLD = []\n",
    "MPD = []\n",
    "temp = [] \n",
    "\n",
    "for hit in tqdm(hits, desc = \"Processing hits\"):\n",
    "    mol = hit.molecule.components[0]\n",
    "\n",
    "    # Skip if molecule contains unallowed atoms \n",
    "    if not all(atom.atomic_symbol in allowed_atoms for atom in mol.atoms):\n",
    "        continue\n",
    "\n",
    "    # # Skip if SMILES can't be generated\n",
    "    # try:\n",
    "    #     smiles = hit.molecule.components[0].to_string('smiles')\n",
    "    # except RuntimeError:\n",
    "    #     continue  # Skip if SMILES can't be generated\n",
    "\n",
    "    # Calculate number of aromatic rings\n",
    "    aromaticity = sum(ring.is_aromatic for ring in mol.rings) \n",
    "\n",
    "    if aromaticity == num_aromatic_rings:\n",
    "        REFcode.append(hit.molecule.identifier)\n",
    "        # SMILES.append(smiles)\n",
    "        crysDes = ccdc.descriptors.CrystalDescriptors.PoreAnalyser(hit.crystal)\n",
    "        sys_vol.append(crysDes.system_volume) # crystal cell volume \n",
    "        sys_dens.append(crysDes.system_density) # crystal cell density? \n",
    "        PLD.append(crysDes.pore_limiting_diameter) \n",
    "        MPD.append(crysDes.max_pore_diameter)\n",
    "        temp.append(extract_temperature(csd_reader.entry(hits[1].molecule.identifier).temperature)) # studied temperature\n",
    "        # add ORCA/polarizability calculation and temperature? \n",
    "\n",
    "    else: \n",
    "        continue\n",
    "\n",
    "df = pd.DataFrame({\n",
    "    'REFcode': REFcode,\n",
    "    # 'SMILES': SMILES,\n",
    "    'System Volume (Å³)': sys_vol,\n",
    "    'System Density (g/cm³)': sys_dens,\n",
    "    'PLD (Å)': PLD,\n",
    "    'MPD (Å)': MPD,\n",
    "    'Temperature (K)': temp\n",
    "})\n",
    "       \n",
    "df \n"
   ]
  },
  {
   "cell_type": "code",
   "execution_count": null,
   "metadata": {},
   "outputs": [],
   "source": [
    "# can use this retroactively to enforce aromaticity constraint \n",
    "\n",
    "from rdkit import Chem\n",
    "from rdkit.Chem import AllChem\n",
    "smiles = 'c1ccccc1Nc2ccccc2'\n",
    "mol = Chem.MolFromSmiles(smiles)\n",
    "Chem.rdMolDescriptors.CalcNumAromaticRings(mol)"
   ]
  },
  {
   "cell_type": "code",
   "execution_count": 304,
   "metadata": {},
   "outputs": [
    {
     "data": {
      "text/plain": [
       "[Atom(C9)-Atom(N2)-Atom(C10)-Atom(C3)-Atom(C4),\n",
       " Atom(C10)-Atom(C3)-Atom(C2)-Atom(C1)-Atom(N1)-Atom(C11),\n",
       " Atom(C9)-Atom(C4)-Atom(C5)-Atom(C6)-Atom(C7)-Atom(C8)]"
      ]
     },
     "execution_count": 304,
     "metadata": {},
     "output_type": "execute_result"
    }
   ],
   "source": [
    "hit.molecule.components[0].rings"
   ]
  },
  {
   "cell_type": "code",
   "execution_count": 303,
   "metadata": {},
   "outputs": [
    {
     "ename": "AttributeError",
     "evalue": "'Molecule' object has no attribute 'pop'",
     "output_type": "error",
     "traceback": [
      "\u001b[31m---------------------------------------------------------------------------\u001b[39m",
      "\u001b[31mAttributeError\u001b[39m                            Traceback (most recent call last)",
      "\u001b[36mCell\u001b[39m\u001b[36m \u001b[39m\u001b[32mIn[303]\u001b[39m\u001b[32m, line 1\u001b[39m\n\u001b[32m----> \u001b[39m\u001b[32m1\u001b[39m \u001b[43mccdc\u001b[49m\u001b[43m.\u001b[49m\u001b[43mmolecule\u001b[49m\u001b[43m.\u001b[49m\u001b[43mRing\u001b[49m\u001b[43m(\u001b[49m\u001b[43mhit\u001b[49m\u001b[43m.\u001b[49m\u001b[43mmolecule\u001b[49m\u001b[43m)\u001b[49m\n",
      "\u001b[36mFile \u001b[39m\u001b[32m~/Documents/GitHub/SMILES-decoder/csd_env/lib/python3.11/site-packages/ccdc/molecule.py:990\u001b[39m, in \u001b[36mRing.__init__\u001b[39m\u001b[34m(self, atoms, _molecule)\u001b[39m\n\u001b[32m    988\u001b[39m \u001b[38;5;28;01mdef\u001b[39;00m\u001b[38;5;250m \u001b[39m\u001b[34m__init__\u001b[39m(\u001b[38;5;28mself\u001b[39m, atoms, _molecule=\u001b[38;5;28;01mNone\u001b[39;00m):\n\u001b[32m    989\u001b[39m     \u001b[38;5;28mself\u001b[39m._molecule = _molecule\n\u001b[32m--> \u001b[39m\u001b[32m990\u001b[39m     path = [\u001b[43matoms\u001b[49m\u001b[43m.\u001b[49m\u001b[43mpop\u001b[49m()]\n\u001b[32m    991\u001b[39m     \u001b[38;5;28;01mfor\u001b[39;00m p \u001b[38;5;129;01min\u001b[39;00m Ring._paths_through_atoms(atoms, path):\n\u001b[32m    992\u001b[39m         \u001b[38;5;28mself\u001b[39m.atoms = p\n",
      "\u001b[31mAttributeError\u001b[39m: 'Molecule' object has no attribute 'pop'"
     ]
    }
   ],
   "source": [
    "ccdc.molecule.Ring(hit.molecule.components)"
   ]
  }
 ],
 "metadata": {
  "kernelspec": {
   "display_name": "Python 3",
   "language": "python",
   "name": "python3"
  },
  "language_info": {
   "codemirror_mode": {
    "name": "ipython",
    "version": 3
   },
   "file_extension": ".py",
   "mimetype": "text/x-python",
   "name": "python",
   "nbconvert_exporter": "python",
   "pygments_lexer": "ipython3",
   "version": "3.11.13"
  }
 },
 "nbformat": 4,
 "nbformat_minor": 2
}
